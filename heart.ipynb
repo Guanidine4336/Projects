{
 "cells": [
  {
   "cell_type": "code",
   "execution_count": 23,
   "metadata": {},
   "outputs": [],
   "source": [
    "import pandas as pd\n",
    "import numpy as np\n",
    "from sklearn.preprocessing import StandardScaler\n",
    "from sklearn.model_selection import train_test_split\n",
    "from sklearn.linear_model import LinearRegression\n",
    "from sklearn import svm\n",
    "from sklearn.metrics import accuracy_score, r2_score\n",
    "import math\n",
    "from math import sqrt\n",
    "from csv import writer\n",
    "\n"
   ]
  },
  {
   "cell_type": "code",
   "execution_count": 24,
   "metadata": {},
   "outputs": [],
   "source": [
    "r = 1\n",
    "ttt = 0.4"
   ]
  },
  {
   "cell_type": "code",
   "execution_count": 25,
   "metadata": {},
   "outputs": [],
   "source": [
    "data = pd.read_csv('heart.csv', header=None)\n",
    "data = data.drop(0)\n",
    "data = data.sample(frac=1)\n",
    "X = data.drop(columns = 13, axis=1)\n",
    "Y = data[13]"
   ]
  },
  {
   "cell_type": "code",
   "execution_count": 26,
   "metadata": {},
   "outputs": [],
   "source": [
    "scaler=StandardScaler()\n",
    "scaler.fit(X)\n",
    "X_train=scaler.transform(X)\n",
    "X_train,X_test,Y_train,Y_test=train_test_split(X,Y,test_size=ttt,random_state=r)\n",
    "X_test=scaler.transform(X_test)\n"
   ]
  },
  {
   "cell_type": "code",
   "execution_count": 27,
   "metadata": {},
   "outputs": [
    {
     "data": {
      "text/html": [
       "<style>#sk-container-id-3 {color: black;background-color: white;}#sk-container-id-3 pre{padding: 0;}#sk-container-id-3 div.sk-toggleable {background-color: white;}#sk-container-id-3 label.sk-toggleable__label {cursor: pointer;display: block;width: 100%;margin-bottom: 0;padding: 0.3em;box-sizing: border-box;text-align: center;}#sk-container-id-3 label.sk-toggleable__label-arrow:before {content: \"▸\";float: left;margin-right: 0.25em;color: #696969;}#sk-container-id-3 label.sk-toggleable__label-arrow:hover:before {color: black;}#sk-container-id-3 div.sk-estimator:hover label.sk-toggleable__label-arrow:before {color: black;}#sk-container-id-3 div.sk-toggleable__content {max-height: 0;max-width: 0;overflow: hidden;text-align: left;background-color: #f0f8ff;}#sk-container-id-3 div.sk-toggleable__content pre {margin: 0.2em;color: black;border-radius: 0.25em;background-color: #f0f8ff;}#sk-container-id-3 input.sk-toggleable__control:checked~div.sk-toggleable__content {max-height: 200px;max-width: 100%;overflow: auto;}#sk-container-id-3 input.sk-toggleable__control:checked~label.sk-toggleable__label-arrow:before {content: \"▾\";}#sk-container-id-3 div.sk-estimator input.sk-toggleable__control:checked~label.sk-toggleable__label {background-color: #d4ebff;}#sk-container-id-3 div.sk-label input.sk-toggleable__control:checked~label.sk-toggleable__label {background-color: #d4ebff;}#sk-container-id-3 input.sk-hidden--visually {border: 0;clip: rect(1px 1px 1px 1px);clip: rect(1px, 1px, 1px, 1px);height: 1px;margin: -1px;overflow: hidden;padding: 0;position: absolute;width: 1px;}#sk-container-id-3 div.sk-estimator {font-family: monospace;background-color: #f0f8ff;border: 1px dotted black;border-radius: 0.25em;box-sizing: border-box;margin-bottom: 0.5em;}#sk-container-id-3 div.sk-estimator:hover {background-color: #d4ebff;}#sk-container-id-3 div.sk-parallel-item::after {content: \"\";width: 100%;border-bottom: 1px solid gray;flex-grow: 1;}#sk-container-id-3 div.sk-label:hover label.sk-toggleable__label {background-color: #d4ebff;}#sk-container-id-3 div.sk-serial::before {content: \"\";position: absolute;border-left: 1px solid gray;box-sizing: border-box;top: 0;bottom: 0;left: 50%;z-index: 0;}#sk-container-id-3 div.sk-serial {display: flex;flex-direction: column;align-items: center;background-color: white;padding-right: 0.2em;padding-left: 0.2em;position: relative;}#sk-container-id-3 div.sk-item {position: relative;z-index: 1;}#sk-container-id-3 div.sk-parallel {display: flex;align-items: stretch;justify-content: center;background-color: white;position: relative;}#sk-container-id-3 div.sk-item::before, #sk-container-id-3 div.sk-parallel-item::before {content: \"\";position: absolute;border-left: 1px solid gray;box-sizing: border-box;top: 0;bottom: 0;left: 50%;z-index: -1;}#sk-container-id-3 div.sk-parallel-item {display: flex;flex-direction: column;z-index: 1;position: relative;background-color: white;}#sk-container-id-3 div.sk-parallel-item:first-child::after {align-self: flex-end;width: 50%;}#sk-container-id-3 div.sk-parallel-item:last-child::after {align-self: flex-start;width: 50%;}#sk-container-id-3 div.sk-parallel-item:only-child::after {width: 0;}#sk-container-id-3 div.sk-dashed-wrapped {border: 1px dashed gray;margin: 0 0.4em 0.5em 0.4em;box-sizing: border-box;padding-bottom: 0.4em;background-color: white;}#sk-container-id-3 div.sk-label label {font-family: monospace;font-weight: bold;display: inline-block;line-height: 1.2em;}#sk-container-id-3 div.sk-label-container {text-align: center;}#sk-container-id-3 div.sk-container {/* jupyter's `normalize.less` sets `[hidden] { display: none; }` but bootstrap.min.css set `[hidden] { display: none !important; }` so we also need the `!important` here to be able to override the default hidden behavior on the sphinx rendered scikit-learn.org. See: https://github.com/scikit-learn/scikit-learn/issues/21755 */display: inline-block !important;position: relative;}#sk-container-id-3 div.sk-text-repr-fallback {display: none;}</style><div id=\"sk-container-id-3\" class=\"sk-top-container\"><div class=\"sk-text-repr-fallback\"><pre>LinearRegression()</pre><b>In a Jupyter environment, please rerun this cell to show the HTML representation or trust the notebook. <br />On GitHub, the HTML representation is unable to render, please try loading this page with nbviewer.org.</b></div><div class=\"sk-container\" hidden><div class=\"sk-item\"><div class=\"sk-estimator sk-toggleable\"><input class=\"sk-toggleable__control sk-hidden--visually\" id=\"sk-estimator-id-3\" type=\"checkbox\" checked><label for=\"sk-estimator-id-3\" class=\"sk-toggleable__label sk-toggleable__label-arrow\">LinearRegression</label><div class=\"sk-toggleable__content\"><pre>LinearRegression()</pre></div></div></div></div></div>"
      ],
      "text/plain": [
       "LinearRegression()"
      ]
     },
     "execution_count": 27,
     "metadata": {},
     "output_type": "execute_result"
    }
   ],
   "source": [
    "model=LinearRegression()\n",
    "model.fit(X_train,Y_train)"
   ]
  },
  {
   "cell_type": "code",
   "execution_count": 28,
   "metadata": {},
   "outputs": [
    {
     "name": "stdout",
     "output_type": "stream",
     "text": [
      "0.5063309496340955\n"
     ]
    }
   ],
   "source": [
    "X_train_prediction=model.predict(X)\n",
    "r2_scaled = r2_score(Y, X_train_prediction)\n",
    "print(r2_scaled)"
   ]
  },
  {
   "cell_type": "code",
   "execution_count": 29,
   "metadata": {},
   "outputs": [
    {
     "name": "stdout",
     "output_type": "stream",
     "text": [
      "      0  1  2    3    4  5  6    7  8    9  10 11 12 13          14\n",
      "1     52  1  0  125  212  0  1  168  0    1  2  2  3  0  406.083858\n",
      "2     53  1  0  140  203  1  0  155  1  3.1  0  0  3  0  -36.859770\n",
      "3     70  1  0  145  174  0  1  125  1  2.6  0  0  3  0   26.536747\n",
      "4     61  1  0  148  203  0  1  161  0    0  2  1  3  0  531.269817\n",
      "5     62  0  0  138  294  1  1  106  0  1.9  1  3  2  0  268.831380\n",
      "...   .. .. ..  ...  ... .. ..  ... ..  ... .. .. .. ..         ...\n",
      "1021  59  1  1  140  221  0  1  164  1    0  2  0  2  1  693.621578\n",
      "1022  60  1  0  125  258  0  0  141  1  2.8  1  1  3  0  -90.043714\n",
      "1023  47  1  0  110  275  0  0  118  1    1  1  1  2  0  114.697607\n",
      "1024  50  0  0  110  254  0  0  159  0    0  2  0  2  1  824.099409\n",
      "1025  54  1  0  120  188  0  1  113  0  1.4  1  1  3  0  253.741657\n",
      "\n",
      "[1025 rows x 15 columns]\n"
     ]
    }
   ],
   "source": [
    "c = 0\n",
    "for i in  X_train_prediction:\n",
    "  X_train_prediction[c]=i*1000  \n",
    "  c+=1\n",
    "data[14]=X_train_prediction\n",
    "\n",
    "print(data)\n"
   ]
  },
  {
   "cell_type": "code",
   "execution_count": 30,
   "metadata": {},
   "outputs": [
    {
     "name": "stdout",
     "output_type": "stream",
     "text": [
      "141\n"
     ]
    }
   ],
   "source": [
    "#feature weight change acc to no of row\n",
    "feature=[1,1,1,1,1,1,1,1,1,1,1,1,1,1,1,1,1,1,1,1,1,1,2,1,1,1,1,1,1,1,1,1,1,1,1,1,1,1,1,1,1,1,1,1,1,1,1,1,1,1,1,1,1,1,1,1,1,1,1,1,1,1,1,1,1,1,1,1,1,2,1,1,1,1,1,1,1,1,1,1,1,1,1,1,1,1,1,1,1,1,1,1,1,1,1,1,1,1,1,1,1,1,1,1,1,1,1,1,1,1,1,1,1,1,1,1,2,1,1,1,1,1,1,1,1,1,1,1,1,1,1,1,1,1,1,1,1,1,1,1,1]\n",
    "print(len(feature))\n",
    "feature[23]=1\n",
    "# feature[22]=0\n",
    "# feature[2]=0\n",
    "# feature[1]=0\n",
    "# calculate the Euclidean distance between two vectors\n",
    "def euclidean_distance(row1, row2):\n",
    "\tdistance = 0.0\n",
    "\tfor i in range(len(row1)-1):\n",
    "\t\tdistance += feature[i]*(row1[i] - row2[i])**2\n",
    "\treturn sqrt(distance)\n",
    "\n",
    "# Locate the most similar neighbors\n",
    "def get_neighbors(train, test_row, num_neighbors):\n",
    "  distances = list()\n",
    "  for train_row in train:\n",
    "    dist = euclidean_distance(test_row, train_row)\n",
    "    distances.append((train_row, dist))\n",
    "  distances.sort(key=lambda tup: tup[1])\n",
    "  neighbors = list()\n",
    "  for i in range(num_neighbors):\n",
    "    neighbors.append(distances[i][0])\n",
    "  \n",
    "  with open('event.csv', 'w') as f_object:\n",
    "    writer_object = writer(f_object)\n",
    " \n",
    "    # Pass the list as an argument into\n",
    "    # the writerow()\n",
    "    for list1 in neighbors:\n",
    "      writer_object.writerow(list1)\n",
    "\t\n",
    "    # Close the file object\n",
    "      # f_object.close()\n",
    "    return neighbors\n",
    "\n",
    "# Make a classification prediction with neighbors\n",
    "def predict_classification(train, test, num_neighbors,dataset):\n",
    "\t\n",
    "\tneighbors = get_neighbors(train, test, num_neighbors)\n",
    "\t# output_values = [row[-1] for row in neighbors]\n",
    "\t# print(test)\n",
    "\tdata=pd.DataFrame(neighbors)\n",
    "\tX=data.drop(columns=13,axis=1)\n",
    "\t# print(X)\n",
    "\t# print(data)\n",
    "\tY=data[13]\n",
    "\ttt=Y[0]\n",
    "\t# print(f\"\\nHere comes first Y \\n{Y}\\n\")\n",
    "\tprediction = tt\n",
    "\tu=5\n",
    "\tfor i in Y:\n",
    "\t\tif(i!=tt):\n",
    "\t\t\tu=9\n",
    "\tif(u==9):\n",
    "\t\t\t# Z=X[23]\n",
    "\t\t# print(Z)\n",
    "\t\t# X=X.drop(columns=23,axis=1)\n",
    "\t\t# scaler=StandardScaler()\t\t\t\t\n",
    "\t\t# scaler.fit(X)\n",
    "\t\t# X=scaler.transform(X)\n",
    "\t\t# X_test=scaler.transform(X_test)\n",
    "\t\tmodel=svm.SVC(kernel='linear')\n",
    "\t\t# X[0][23]=Z\n",
    "\t\t# print(f\"\\nHere comes X\\n{X}\\nHere Comes Y\\n{Y}\")\n",
    "\t\tmodel.fit(X,Y)\n",
    "\t\t# # print(test[22])\n",
    "\t\tinput_data=(test[0:13]+test[14:])\n",
    "\t\t# print(input_data)\n",
    "\n",
    "\t\tinput_data_as_numpy=np.asarray(input_data)\n",
    "\t\tinput_data_reshaped=input_data_as_numpy.reshape(1,-1)\n",
    "\t\t# print(input_data_reshaped)\n",
    "\t\t# input_data1=scaler.transform(input_data_reshaped)\n",
    "\t\t# input_data1[23]=input_data_reshaped[23]\n",
    "\t\tprediction=model.predict(input_data_reshaped)\n",
    "\t\t# print(prediction,\" but expected \",test[0])\n",
    "\tif(math.floor(test[13])==math.floor(prediction)):\n",
    "\t\treturn 1\n",
    "\n",
    "\n",
    "\treturn 0\n"
   ]
  },
  {
   "cell_type": "code",
   "execution_count": 32,
   "metadata": {},
   "outputs": [
    {
     "name": "stdout",
     "output_type": "stream",
     "text": [
      "(accuracy: 0.9536585365853658)\n"
     ]
    }
   ],
   "source": [
    "def main():\n",
    "\t# Test distance function\n",
    "\t# df = pd.read_csv(r\"./letter.csv\")\n",
    "\t# # df=df.drop(columns=0,axis=1)\n",
    "\t# X1=data.drop(columns=[13],axis=1)\n",
    "\tX1 = data\n",
    "\t# print(X1)\n",
    "\tX_train,X_test,Y_train,Y_test=train_test_split(X1,Y,test_size=ttt,random_state=r)\n",
    "\tdataset = X_train.astype(float).values.tolist()\n",
    "\t\n",
    "\t# print((data.shape), len(dataset), len(dataset[0]))\n",
    "\tX_test1 =X_test.astype(float).values.tolist()\n",
    "\t# print(data[17])\n",
    "\t\n",
    "\n",
    "\tp=[]\n",
    "\ts=[]\n",
    "\te=[]\n",
    "\ttotal=0\n",
    "\t# process=1   #--------------------------------------------------------------------------------------------process----------------------------------------------------\n",
    "\tfor i in X_test1:\n",
    "\t\t# print(i)\n",
    "\t\tp.append(predict_classification(dataset, i, 10,data))\n",
    "\t\t# (predict_classification(dataset, i, 5,data))\n",
    "\n",
    "\t# for i in range(process):\n",
    "\t# \ts.append(time.perf_counter())\n",
    "\t# \tp[i].start()\n",
    "\t# for i in range(process):\n",
    "\t# \tp[i].join()\n",
    "\t# \te.append(time.perf_counter())\n",
    "\t# for i in range(process):\n",
    "\t# \ttotal=total+(e[i]-s[i])\n",
    "        \n",
    "\n",
    "\tresult=0\n",
    "\n",
    "\tfor i in range(len(p)):\n",
    "\t\t# print(p[i])\n",
    "\t\tresult+=p[i]\n",
    "\tresult=result/len(p);\n",
    "\tprint(f\"(accuracy: {result})\")\n",
    "\t# print(\"parallel Exec Time: \", e[process-1]-s[0])\n",
    "\t# print(\"total seq Exec Time: \", total)\n",
    "\t# print('Expected --%d' % (dataset[0][-1]))\n",
    "if __name__ == \"__main__\":\n",
    "\tmain()\n"
   ]
  }
 ],
 "metadata": {
  "kernelspec": {
   "display_name": "Python 3",
   "language": "python",
   "name": "python3"
  },
  "language_info": {
   "codemirror_mode": {
    "name": "ipython",
    "version": 3
   },
   "file_extension": ".py",
   "mimetype": "text/x-python",
   "name": "python",
   "nbconvert_exporter": "python",
   "pygments_lexer": "ipython3",
   "version": "3.10.11"
  },
  "orig_nbformat": 4
 },
 "nbformat": 4,
 "nbformat_minor": 2
}
